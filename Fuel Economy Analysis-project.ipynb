{
 "cells": [
  {
   "cell_type": "code",
   "execution_count": 1,
   "metadata": {},
   "outputs": [],
   "source": [
    "import pandas as pd\n",
    "import numpy as np\n",
    "%matplotlib inline\n",
    "import matplotlib.pyplot as plt"
   ]
  },
  {
   "cell_type": "code",
   "execution_count": 2,
   "metadata": {},
   "outputs": [],
   "source": [
    "alpha_08_df = pd.read_csv('all_alpha_08.csv')\n",
    "alpha_18_df = pd.read_csv('all_alpha_18.csv')"
   ]
  },
  {
   "cell_type": "code",
   "execution_count": 3,
   "metadata": {},
   "outputs": [
    {
     "name": "stdout",
     "output_type": "stream",
     "text": [
      "18 columns in the alpha 08 dataset\n",
      "18 columns in the alpha 18 dataset\n"
     ]
    }
   ],
   "source": [
    "print(f'{alpha_08_df.shape[1]} columns in the alpha 08 dataset')\n",
    "print(f'{alpha_18_df.shape[1]} columns in the alpha 18 dataset')"
   ]
  },
  {
   "cell_type": "code",
   "execution_count": 4,
   "metadata": {},
   "outputs": [
    {
     "name": "stdout",
     "output_type": "stream",
     "text": [
      "2404 records in the alpha 08 dataset\n",
      "1611 records in the alpha 18 dataset\n"
     ]
    }
   ],
   "source": [
    "print(f'{alpha_08_df.shape[0]} records in the alpha 08 dataset')\n",
    "print(f'{alpha_18_df.shape[0]} records in the alpha 18 dataset')"
   ]
  },
  {
   "cell_type": "code",
   "execution_count": 5,
   "metadata": {},
   "outputs": [
    {
     "name": "stdout",
     "output_type": "stream",
     "text": [
      "25 duplicated rows in the alpha 08 dataset\n",
      "0 duplicated rows in the alpha 18 dataset\n"
     ]
    }
   ],
   "source": [
    "print(f'{alpha_08_df.duplicated().sum()} duplicated rows in the alpha 08 dataset')\n",
    "print(f'{alpha_18_df.duplicated().sum()} duplicated rows in the alpha 18 dataset')"
   ]
  },
  {
   "cell_type": "code",
   "execution_count": 6,
   "metadata": {},
   "outputs": [
    {
     "name": "stdout",
     "output_type": "stream",
     "text": [
      "5 unique fuel types in the 08 dataset\n",
      "5 unique fuel types in the 18 dataset\n"
     ]
    }
   ],
   "source": [
    "print(f'{alpha_08_df.Fuel.nunique()} unique fuel types in the 08 dataset')\n",
    "print(f'{alpha_18_df.Fuel.nunique()} unique fuel types in the 18 dataset')"
   ]
  },
  {
   "cell_type": "code",
   "execution_count": 7,
   "metadata": {},
   "outputs": [],
   "source": [
    "# [sales area, cert region, Fuel, city mpg, hwy mpg, cmb mpg, unadj cmb mpg, 'greenhouse gas score', 'air pollution score']"
   ]
  },
  {
   "cell_type": "code",
   "execution_count": 8,
   "metadata": {},
   "outputs": [
    {
     "name": "stdout",
     "output_type": "stream",
     "text": [
      "Column names standardized\n"
     ]
    }
   ],
   "source": [
    "alpha_08_df = alpha_08_df.rename(columns=lambda x:x.replace(' ', '_'))\n",
    "alpha_18_df = alpha_18_df.rename(columns=lambda x:x.replace(' ', '_'))\n",
    "alpha_18_df = alpha_18_df.rename(columns={'Cert_Region': 'Sales_Area'})\n",
    "print('Column names standardized')"
   ]
  },
  {
   "cell_type": "code",
   "execution_count": 9,
   "metadata": {},
   "outputs": [
    {
     "name": "stdout",
     "output_type": "stream",
     "text": [
      "Unneeded columns dropped\n"
     ]
    }
   ],
   "source": [
    "alpha_18_df = alpha_18_df.drop(columns=['Comb_CO2', 'SmartWay', 'Stnd_Description'])\n",
    "alpha_08_df = alpha_08_df.drop(columns=['SmartWay', 'Unadj_Cmb_MPG', 'FE_Calc_Appr'])\n",
    "print(\"Unneeded columns dropped\")"
   ]
  },
  {
   "cell_type": "code",
   "execution_count": 10,
   "metadata": {},
   "outputs": [
    {
     "name": "stdout",
     "output_type": "stream",
     "text": [
      "Isolated the region to CA\n",
      "Deleted sales_area column\n"
     ]
    }
   ],
   "source": [
    "alpha_08_df = alpha_08_df.query('Sales_Area == \"CA\"')\n",
    "alpha_18_df = alpha_18_df.query('Sales_Area ==\"CA\"')\n",
    "print(\"Isolated the region to CA\")\n",
    "alpha_18_df = alpha_18_df.drop(columns=['Sales_Area'])\n",
    "alpha_08_df = alpha_08_df.drop(columns=['Sales_Area'])\n",
    "print(\"Deleted sales_area column\")"
   ]
  },
  {
   "cell_type": "code",
   "execution_count": 11,
   "metadata": {},
   "outputs": [
    {
     "name": "stdout",
     "output_type": "stream",
     "text": [
      "Rows with missing values dropped\n"
     ]
    }
   ],
   "source": [
    "alpha_08_df = alpha_08_df.dropna(axis=0)\n",
    "alpha_18_df = alpha_18_df.dropna(axis=0)\n",
    "print('Rows with missing values dropped')"
   ]
  },
  {
   "cell_type": "code",
   "execution_count": 12,
   "metadata": {},
   "outputs": [
    {
     "name": "stdout",
     "output_type": "stream",
     "text": [
      "Cleaned up the Cyl column for both datasets\n"
     ]
    }
   ],
   "source": [
    "alpha_08_df.Cyl = alpha_08_df.Cyl.str.extract('(\\d+)')\n",
    "alpha_18_df['Cyl'] = alpha_18_df['Cyl'].astype(int)\n",
    "print(\"Cleaned up the Cyl column for both datasets\")"
   ]
  },
  {
   "cell_type": "code",
   "execution_count": 13,
   "metadata": {},
   "outputs": [
    {
     "name": "stdout",
     "output_type": "stream",
     "text": [
      "Fixed column dtypes for the 18 dataset\n"
     ]
    }
   ],
   "source": [
    "alpha_18_df['Greenhouse_Gas_Score'] = alpha_18_df['Greenhouse_Gas_Score'].astype(int)\n",
    "alpha_18_df['Air_Pollution_Score'] = alpha_18_df['Air_Pollution_Score'].astype(int)\n",
    "print(\"Fixed column dtypes for the 18 dataset\")"
   ]
  },
  {
   "cell_type": "code",
   "execution_count": 14,
   "metadata": {},
   "outputs": [
    {
     "name": "stdout",
     "output_type": "stream",
     "text": [
      "Fixed // values in the rows for both datasets\n"
     ]
    }
   ],
   "source": [
    "cols = ['Fuel', 'City_MPG', 'Hwy_MPG', 'Cmb_MPG', 'Air_Pollution_Score', 'Greenhouse_Gas_Score']\n",
    "x= alpha_08_df[alpha_08_df['City_MPG'].str.contains('/')]\n",
    "x1 = x.copy()\n",
    "x2 = x.copy()\n",
    "for i in cols:\n",
    "    x1[i] = x1[i].apply(lambda x: x.split('/')[0])\n",
    "    x2[i] = x2[i].apply(lambda x: x.split('/')[1])\n",
    "alpha_08_df = alpha_08_df.drop(x.index)\n",
    "alpha_08_df = alpha_08_df.append(x1, ignore_index=True)\n",
    "alpha_08_df = alpha_08_df.append(x2, ignore_index=True)\n",
    "\n",
    "\n",
    "cols = ['Fuel', 'City_MPG', 'Hwy_MPG', 'Cmb_MPG']\n",
    "x= alpha_18_df[alpha_18_df['City_MPG'].str.contains('/')]\n",
    "x1 = x.copy()\n",
    "x2 = x.copy()\n",
    "for i in cols:\n",
    "    x1[i] = x1[i].apply(lambda x: x.split('/')[0])\n",
    "    x2[i] = x2[i].apply(lambda x: x.split('/')[1])\n",
    "alpha_18_df = alpha_18_df.drop(x.index)\n",
    "alpha_18_df = alpha_18_df.append(x1, ignore_index=True)\n",
    "alpha_18_df = alpha_18_df.append(x2, ignore_index=True)\n",
    "\n",
    "print(\"Fixed // values in the rows for both datasets\")"
   ]
  },
  {
   "cell_type": "code",
   "execution_count": 15,
   "metadata": {},
   "outputs": [
    {
     "name": "stdout",
     "output_type": "stream",
     "text": [
      "Fixed the Fuel type naming system to be more standardized\n"
     ]
    }
   ],
   "source": [
    "alpha_08_df['Fuel'] = alpha_08_df['Fuel'].apply(lambda x: x.replace('gas', 'Gasoline'))\n",
    "alpha_18_df['Fuel'] = alpha_18_df['Fuel'].apply(lambda x: x.replace('gas', 'Gasoline'))\n",
    "alpha_18_df['Fuel'] = alpha_18_df['Fuel'].apply(lambda x: x.replace('Gas', 'Gasoline'))\n",
    "alpha_18_df['Fuel'] = alpha_18_df['Fuel'].apply(lambda x: x.replace('Gasolineoline', 'Gasoline'))\n",
    "\n",
    "print(\"Fixed the Fuel type naming system to be more standardized\")"
   ]
  },
  {
   "cell_type": "code",
   "execution_count": 16,
   "metadata": {},
   "outputs": [
    {
     "name": "stdout",
     "output_type": "stream",
     "text": [
      "Fixed the changed dtypes of the 08 columns.\n"
     ]
    }
   ],
   "source": [
    "alpha_08_df['Air_Pollution_Score'] = alpha_08_df['Air_Pollution_Score'].astype(float).astype(int)\n",
    "alpha_08_df['Greenhouse_Gas_Score'] = alpha_08_df['Greenhouse_Gas_Score'].astype('int64')\n",
    "print(\"Fixed the changed dtypes of the 08 columns.\")"
   ]
  },
  {
   "cell_type": "code",
   "execution_count": 17,
   "metadata": {},
   "outputs": [
    {
     "name": "stdout",
     "output_type": "stream",
     "text": [
      "Fixed datatypes for the Cmb_MPG columns\n"
     ]
    }
   ],
   "source": [
    "alpha_18_df['Cmb_MPG'] = alpha_18_df['Cmb_MPG'].astype('int64')\n",
    "alpha_08_df['Cmb_MPG'] = alpha_08_df['Cmb_MPG'].astype('int64')\n",
    "print(\"Fixed datatypes for the Cmb_MPG columns\")"
   ]
  },
  {
   "cell_type": "code",
   "execution_count": 18,
   "metadata": {},
   "outputs": [
    {
     "data": {
      "text/plain": [
       "False"
      ]
     },
     "execution_count": 18,
     "metadata": {},
     "output_type": "execute_result"
    }
   ],
   "source": [
    "(alpha_18_df.dtypes == alpha_08_df.dtypes).all()"
   ]
  },
  {
   "cell_type": "code",
   "execution_count": 19,
   "metadata": {},
   "outputs": [
    {
     "name": "stdout",
     "output_type": "stream",
     "text": [
      "In 2008, 2 car types used alternative fuel types\n",
      "In 2018, 79 car types used alternative fuel types\n",
      "77 more car types used more alternative fuel\n"
     ]
    }
   ],
   "source": [
    "alpha_08_df.Fuel.value_counts()\n",
    "print(f\"In 2008, 2 car types used alternative fuel types\")\n",
    "alpha_18_df.Fuel.value_counts()\n",
    "print(f\"In 2018, 79 car types used alternative fuel types\")\n",
    "print(f\"77 more car types used more alternative fuel\")"
   ]
  },
  {
   "cell_type": "code",
   "execution_count": 20,
   "metadata": {},
   "outputs": [
    {
     "name": "stdout",
     "output_type": "stream",
     "text": [
      "In 2008 the average fuel economy was 19.74, in 2018 it was 24.02 so we see an improvement of 4.28 mpg\n"
     ]
    }
   ],
   "source": [
    "print(f\"In 2008 the average fuel economy was {round(alpha_08_df.Cmb_MPG.mean(), 2)}, in 2018 it was {round(alpha_18_df.Cmb_MPG.mean(), 2)} so we see an improvement of {round((round(alpha_18_df.Cmb_MPG.mean(), 2)) - round(alpha_08_df.Cmb_MPG.mean(), 2), 2) } mpg\")"
   ]
  },
  {
   "cell_type": "markdown",
   "metadata": {},
   "source": [
    "## Which type of vehicle's fuel economy has improved the most since 2008?"
   ]
  },
  {
   "cell_type": "code",
   "execution_count": 21,
   "metadata": {},
   "outputs": [
    {
     "data": {
      "text/plain": [
       "27.83"
      ]
     },
     "execution_count": 21,
     "metadata": {},
     "output_type": "execute_result"
    }
   ],
   "source": [
    "round(alpha_18_df.groupby('Veh_Class').Cmb_MPG.mean(), 2)[1]"
   ]
  },
  {
   "cell_type": "code",
   "execution_count": 22,
   "metadata": {},
   "outputs": [
    {
     "name": "stdout",
     "output_type": "stream",
     "text": [
      "Mid Sized cars had the highest increase in Cmb AVG of MPG : 6.259999999999998\n"
     ]
    }
   ],
   "source": [
    "midsizedcar = round(alpha_18_df.groupby('Veh_Class').Cmb_MPG.mean(), 2)[1] - round(alpha_08_df.groupby('Veh_Class').Cmb_MPG.mean(), 2)[2]\n",
    "print(f\"Mid Sized cars had the highest increase in Cmb AVG of MPG : {midsizedcar}\")"
   ]
  },
  {
   "cell_type": "markdown",
   "metadata": {},
   "source": [
    "#### (2008) Average fuel economy by vehicle type"
   ]
  },
  {
   "cell_type": "code",
   "execution_count": 23,
   "metadata": {},
   "outputs": [
    {
     "data": {
      "image/png": "[encoded data removed]",
      "text/plain": [
       "<Figure size 432x288 with 1 Axes>"
      ]
     },
     "metadata": {
      "needs_background": "light"
     },
     "output_type": "display_data"
    }
   ],
   "source": [
    "labels_list = ['blue']\n",
    "wine_averages = alpha_08_df.groupby('Veh_Class').Cmb_MPG.mean()\n",
    "wine_averages.plot(kind='bar', color=labels_list)\n",
    "plt.title('Average Fuel economy by Vehicle type 2008', color='white')\n",
    "plt.xlabel('Veh Type', color=\"White\")\n",
    "plt.ylabel('Fuel Econ', color=\"White\")\n",
    "plt.show()"
   ]
  },
  {
   "cell_type": "markdown",
   "metadata": {},
   "source": [
    "#### (2018) Average fuel economy by vehicle type"
   ]
  },
  {
   "cell_type": "code",
   "execution_count": 24,
   "metadata": {},
   "outputs": [
    {
     "data": {
      "image/png": "[encoded data removed]",
      "text/plain": [
       "<Figure size 432x288 with 1 Axes>"
      ]
     },
     "metadata": {
      "needs_background": "light"
     },
     "output_type": "display_data"
    }
   ],
   "source": [
    "labels_list = ['blue']\n",
    "wine_averages = alpha_18_df.groupby('Veh_Class').Cmb_MPG.mean()\n",
    "wine_averages.plot(kind='bar', color=labels_list)\n",
    "plt.title('Average Fuel economy by Vehicle type 2018', color='white')\n",
    "plt.xlabel('Veh Type', color=\"White\")\n",
    "plt.ylabel('Fuel Econ', color=\"White\")\n",
    "plt.show()"
   ]
  },
  {
   "cell_type": "markdown",
   "metadata": {},
   "source": [
    "## Which model has the highest `air_pollution_score` and fuel economy in 2008 and 2018? Compare them. "
   ]
  },
  {
   "cell_type": "code",
   "execution_count": 25,
   "metadata": {},
   "outputs": [
    {
     "name": "stdout",
     "output_type": "stream",
     "text": [
      "This is the highest scoring car on the air pollution score index\n"
     ]
    },
    {
     "data": {
      "text/plain": [
       "Model                        AUDI A3\n",
       "Displ                              2\n",
       "Cyl                                4\n",
       "Trans                          AMS-6\n",
       "Drive                            4WD\n",
       "Fuel                        Gasoline\n",
       "Stnd                              S2\n",
       "Underhood_ID            JVGAV02.0APA\n",
       "Veh_Class                  small car\n",
       "Air_Pollution_Score                7\n",
       "City_MPG                          24\n",
       "Hwy_MPG                           31\n",
       "Cmb_MPG                           27\n",
       "Greenhouse_Gas_Score               6\n",
       "Name: 10, dtype: object"
      ]
     },
     "execution_count": 25,
     "metadata": {},
     "output_type": "execute_result"
    }
   ],
   "source": [
    "highest_APS = alpha_18_df['Air_Pollution_Score'].idxmax()\n",
    "print(\"This is the highest scoring car on the air pollution score index\")\n",
    "alpha_18_df.iloc[highest_APS]"
   ]
  },
  {
   "cell_type": "code",
   "execution_count": 26,
   "metadata": {},
   "outputs": [
    {
     "name": "stdout",
     "output_type": "stream",
     "text": [
      "Saved\n",
      "Reloaded\n"
     ]
    }
   ],
   "source": [
    "alpha_18_df.to_csv('alpha_18_df.csv', index=False)\n",
    "alpha_08_df.to_csv('alpha_08_df.csv', index=False)\n",
    "print(\"Saved\")\n",
    "\n",
    "alpha_08_df = pd.read_csv('alpha_08_df.csv')\n",
    "alpha_18_df = pd.read_csv('alpha_18_df.csv')\n",
    "print(\"Reloaded\")"
   ]
  }
 ],
 "metadata": {
  "kernelspec": {
   "display_name": "Python 3",
   "language": "python",
   "name": "python3"
  },
  "language_info": {
   "codemirror_mode": {
    "name": "ipython",
    "version": 3
   },
   "file_extension": ".py",
   "mimetype": "text/x-python",
   "name": "python",
   "nbconvert_exporter": "python",
   "pygments_lexer": "ipython3",
   "version": "3.8.3"
  }
 },
 "nbformat": 4,
 "nbformat_minor": 2
}
